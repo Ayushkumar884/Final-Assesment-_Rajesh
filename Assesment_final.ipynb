{
 "cells": [
  {
   "cell_type": "code",
   "execution_count": 1,
   "id": "a4f9834a",
   "metadata": {},
   "outputs": [],
   "source": [
    "import numpy as np\n",
    "import pandas as pd\n",
    "import matplotlib.pyplot as plt\n",
    "from pathlib import Path\n",
    "\n",
    "#importing desired libraries"
   ]
  },
  {
   "cell_type": "code",
   "execution_count": null,
   "id": "4d5d8a54",
   "metadata": {},
   "outputs": [],
   "source": [
    "pip install openpyxl --upgrade\n",
    "\n",
    "# installing desired module"
   ]
  },
  {
   "cell_type": "code",
   "execution_count": 2,
   "id": "be1a4f1f",
   "metadata": {},
   "outputs": [
    {
     "data": {
      "text/plain": [
       "WindowsPath('C:/Users/kumar/OneDrive/Documents/Ayush/Practice python')"
      ]
     },
     "execution_count": 2,
     "metadata": {},
     "output_type": "execute_result"
    }
   ],
   "source": [
    "this_dir=Path(\".\").resolve()\n",
    "this_dir\n",
    "\n",
    "#to check the path of program"
   ]
  },
  {
   "cell_type": "code",
   "execution_count": 4,
   "id": "ee9f78bc",
   "metadata": {},
   "outputs": [
    {
     "name": "stdout",
     "output_type": "stream",
     "text": [
      "Reading email_campaign.xlsx\n",
      "Reading sms_campaign.xlsx\n",
      "Reading whatsapp_campaign.xlsx\n"
     ]
    },
    {
     "name": "stderr",
     "output_type": "stream",
     "text": [
      "C:\\Users\\kumar\\AppData\\Local\\Temp\\ipykernel_13456\\3181278647.py:11: UserWarning: Parsing '15-09-2022' in DD/MM/YYYY format. Provide format or specify infer_datetime_format=True for consistent parsing.\n",
      "  df['date']=pd.to_datetime(df['date'])\n",
      "C:\\Users\\kumar\\AppData\\Local\\Temp\\ipykernel_13456\\3181278647.py:11: UserWarning: Parsing '15-09-2022' in DD/MM/YYYY format. Provide format or specify infer_datetime_format=True for consistent parsing.\n",
      "  df['date']=pd.to_datetime(df['date'])\n",
      "C:\\Users\\kumar\\AppData\\Local\\Temp\\ipykernel_13456\\3181278647.py:11: UserWarning: Parsing '15-09-2022' in DD/MM/YYYY format. Provide format or specify infer_datetime_format=True for consistent parsing.\n",
      "  df['date']=pd.to_datetime(df['date'])\n"
     ]
    }
   ],
   "source": [
    "datas=[]\n",
    "\n",
    "# To reading excel file in \"Files_assesment\" folder\n",
    "for path in (this_dir/\"Files_assesment\").rglob(\"*.xlsx*\"):\n",
    "    #showing the read files\n",
    "    print(f\"Reading {path.name}\")\n",
    "    df=pd.read_excel(path, sheet_name= None)\n",
    "    df=pd.concat(df.values(),ignore_index=True)\n",
    "    df.rename(columns={df.columns[2]:\"message\"},inplace=True)\n",
    "    #df['date'].dtype\n",
    "    df['date']=pd.to_datetime(df['date'])\n",
    "    df.dropna(how=\"any\", inplace=True)\n",
    "    df.reset_index(drop=True,inplace=True)\n",
    "    datas.append(df)"
   ]
  },
  {
   "cell_type": "code",
   "execution_count": 5,
   "id": "2153db3b",
   "metadata": {},
   "outputs": [],
   "source": [
    "data_x=pd.concat(datas,axis=0)\n",
    "\n",
    "#Concating all files in list"
   ]
  },
  {
   "cell_type": "code",
   "execution_count": 6,
   "id": "e34eff5f",
   "metadata": {},
   "outputs": [],
   "source": [
    "pd.set_option('display.max_rows',None)"
   ]
  },
  {
   "cell_type": "code",
   "execution_count": 7,
   "id": "8ecc89c0",
   "metadata": {},
   "outputs": [
    {
     "data": {
      "text/html": [
       "<div>\n",
       "<style scoped>\n",
       "    .dataframe tbody tr th:only-of-type {\n",
       "        vertical-align: middle;\n",
       "    }\n",
       "\n",
       "    .dataframe tbody tr th {\n",
       "        vertical-align: top;\n",
       "    }\n",
       "\n",
       "    .dataframe thead th {\n",
       "        text-align: right;\n",
       "    }\n",
       "</style>\n",
       "<table border=\"1\" class=\"dataframe\">\n",
       "  <thead>\n",
       "    <tr style=\"text-align: right;\">\n",
       "      <th></th>\n",
       "      <th>mobile</th>\n",
       "      <th>date</th>\n",
       "      <th>message</th>\n",
       "    </tr>\n",
       "  </thead>\n",
       "  <tbody>\n",
       "    <tr>\n",
       "      <th>0</th>\n",
       "      <td>1234567890</td>\n",
       "      <td>2022-01-09</td>\n",
       "      <td>personal loan @11%</td>\n",
       "    </tr>\n",
       "    <tr>\n",
       "      <th>1</th>\n",
       "      <td>2345678901</td>\n",
       "      <td>2022-01-09</td>\n",
       "      <td>Fixed Deposit Interest 7.25%</td>\n",
       "    </tr>\n",
       "    <tr>\n",
       "      <th>2</th>\n",
       "      <td>3456789012</td>\n",
       "      <td>2022-02-09</td>\n",
       "      <td>Home Loans @8%</td>\n",
       "    </tr>\n",
       "    <tr>\n",
       "      <th>3</th>\n",
       "      <td>4567890123</td>\n",
       "      <td>2022-09-15</td>\n",
       "      <td>personal loan @11%</td>\n",
       "    </tr>\n",
       "    <tr>\n",
       "      <th>4</th>\n",
       "      <td>5678901234</td>\n",
       "      <td>2022-09-15</td>\n",
       "      <td>Fixed Deposit Interest 7.25%</td>\n",
       "    </tr>\n",
       "    <tr>\n",
       "      <th>5</th>\n",
       "      <td>1111122222</td>\n",
       "      <td>2022-09-15</td>\n",
       "      <td>Home Loans @8%</td>\n",
       "    </tr>\n",
       "    <tr>\n",
       "      <th>6</th>\n",
       "      <td>1234123456</td>\n",
       "      <td>2022-09-15</td>\n",
       "      <td>personal loan @11%</td>\n",
       "    </tr>\n",
       "    <tr>\n",
       "      <th>7</th>\n",
       "      <td>2342342345</td>\n",
       "      <td>2022-09-15</td>\n",
       "      <td>Fixed Deposit Interest 7.25%</td>\n",
       "    </tr>\n",
       "    <tr>\n",
       "      <th>8</th>\n",
       "      <td>33333444555</td>\n",
       "      <td>2022-09-15</td>\n",
       "      <td>Home Loans @8%</td>\n",
       "    </tr>\n",
       "    <tr>\n",
       "      <th>9</th>\n",
       "      <td>1234567890</td>\n",
       "      <td>2022-01-09</td>\n",
       "      <td>personal loan @11%</td>\n",
       "    </tr>\n",
       "    <tr>\n",
       "      <th>10</th>\n",
       "      <td>2345678901</td>\n",
       "      <td>2022-01-09</td>\n",
       "      <td>Fixed Deposit Interest 7.25%</td>\n",
       "    </tr>\n",
       "    <tr>\n",
       "      <th>11</th>\n",
       "      <td>3456789012</td>\n",
       "      <td>2022-02-09</td>\n",
       "      <td>Home Loans @8%</td>\n",
       "    </tr>\n",
       "    <tr>\n",
       "      <th>12</th>\n",
       "      <td>4567890123</td>\n",
       "      <td>2022-09-15</td>\n",
       "      <td>personal loan @11%</td>\n",
       "    </tr>\n",
       "    <tr>\n",
       "      <th>13</th>\n",
       "      <td>5678901234</td>\n",
       "      <td>2022-09-15</td>\n",
       "      <td>Fixed Deposit Interest 7.25%</td>\n",
       "    </tr>\n",
       "    <tr>\n",
       "      <th>14</th>\n",
       "      <td>1111122222</td>\n",
       "      <td>2022-09-15</td>\n",
       "      <td>Home Loans @8%</td>\n",
       "    </tr>\n",
       "    <tr>\n",
       "      <th>15</th>\n",
       "      <td>5555566666</td>\n",
       "      <td>2022-01-09</td>\n",
       "      <td>personal loan @11%</td>\n",
       "    </tr>\n",
       "    <tr>\n",
       "      <th>16</th>\n",
       "      <td>2345678901</td>\n",
       "      <td>2022-01-09</td>\n",
       "      <td>Fixed Deposit Interest 7.25%</td>\n",
       "    </tr>\n",
       "    <tr>\n",
       "      <th>17</th>\n",
       "      <td>3456789012</td>\n",
       "      <td>2022-02-09</td>\n",
       "      <td>Home Loans @8%</td>\n",
       "    </tr>\n",
       "    <tr>\n",
       "      <th>18</th>\n",
       "      <td>4567890123</td>\n",
       "      <td>2022-09-15</td>\n",
       "      <td>personal loan @11%</td>\n",
       "    </tr>\n",
       "    <tr>\n",
       "      <th>19</th>\n",
       "      <td>5678901234</td>\n",
       "      <td>2022-09-15</td>\n",
       "      <td>Fixed Deposit Interest 7.25%</td>\n",
       "    </tr>\n",
       "    <tr>\n",
       "      <th>20</th>\n",
       "      <td>1111122222</td>\n",
       "      <td>2022-09-15</td>\n",
       "      <td>Home Loans @8%</td>\n",
       "    </tr>\n",
       "  </tbody>\n",
       "</table>\n",
       "</div>"
      ],
      "text/plain": [
       "         mobile       date                       message\n",
       "0    1234567890 2022-01-09            personal loan @11%\n",
       "1    2345678901 2022-01-09  Fixed Deposit Interest 7.25%\n",
       "2    3456789012 2022-02-09                Home Loans @8%\n",
       "3    4567890123 2022-09-15            personal loan @11%\n",
       "4    5678901234 2022-09-15  Fixed Deposit Interest 7.25%\n",
       "5    1111122222 2022-09-15                Home Loans @8%\n",
       "6    1234123456 2022-09-15            personal loan @11%\n",
       "7    2342342345 2022-09-15  Fixed Deposit Interest 7.25%\n",
       "8   33333444555 2022-09-15                Home Loans @8%\n",
       "9    1234567890 2022-01-09            personal loan @11%\n",
       "10   2345678901 2022-01-09  Fixed Deposit Interest 7.25%\n",
       "11   3456789012 2022-02-09                Home Loans @8%\n",
       "12   4567890123 2022-09-15            personal loan @11%\n",
       "13   5678901234 2022-09-15  Fixed Deposit Interest 7.25%\n",
       "14   1111122222 2022-09-15                Home Loans @8%\n",
       "15   5555566666 2022-01-09            personal loan @11%\n",
       "16   2345678901 2022-01-09  Fixed Deposit Interest 7.25%\n",
       "17   3456789012 2022-02-09                Home Loans @8%\n",
       "18   4567890123 2022-09-15            personal loan @11%\n",
       "19   5678901234 2022-09-15  Fixed Deposit Interest 7.25%\n",
       "20   1111122222 2022-09-15                Home Loans @8%"
      ]
     },
     "execution_count": 7,
     "metadata": {},
     "output_type": "execute_result"
    }
   ],
   "source": [
    "data_x.reset_index(drop=True,inplace=True)\n",
    "data_x\n",
    "\n",
    "#resent index to show the end results"
   ]
  },
  {
   "cell_type": "code",
   "execution_count": 8,
   "id": "fb6e615f",
   "metadata": {},
   "outputs": [
    {
     "data": {
      "text/plain": [
       "(21, 3)"
      ]
     },
     "execution_count": 8,
     "metadata": {},
     "output_type": "execute_result"
    }
   ],
   "source": [
    "data_x.shape\n",
    "\n",
    "#checking shape of DataFrame"
   ]
  },
  {
   "cell_type": "code",
   "execution_count": null,
   "id": "5f804314",
   "metadata": {},
   "outputs": [],
   "source": []
  },
  {
   "cell_type": "code",
   "execution_count": null,
   "id": "d5e1f18a",
   "metadata": {},
   "outputs": [],
   "source": []
  },
  {
   "cell_type": "code",
   "execution_count": null,
   "id": "85d0ba45",
   "metadata": {},
   "outputs": [],
   "source": []
  },
  {
   "cell_type": "code",
   "execution_count": null,
   "id": "70f07f11",
   "metadata": {},
   "outputs": [],
   "source": []
  }
 ],
 "metadata": {
  "kernelspec": {
   "display_name": "Python 3 (ipykernel)",
   "language": "python",
   "name": "python3"
  },
  "language_info": {
   "codemirror_mode": {
    "name": "ipython",
    "version": 3
   },
   "file_extension": ".py",
   "mimetype": "text/x-python",
   "name": "python",
   "nbconvert_exporter": "python",
   "pygments_lexer": "ipython3",
   "version": "3.10.2"
  }
 },
 "nbformat": 4,
 "nbformat_minor": 5
}
